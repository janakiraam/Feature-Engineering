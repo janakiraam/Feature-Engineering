{
 "cells": [
  {
   "cell_type": "code",
   "execution_count": 1,
   "id": "stupid-hampton",
   "metadata": {},
   "outputs": [],
   "source": [
    "import matplotlib.pyplot as plt\n",
    "import numpy as np\n",
    "import pandas as pd"
   ]
  },
  {
   "cell_type": "code",
   "execution_count": 2,
   "id": "given-species",
   "metadata": {},
   "outputs": [],
   "source": [
    "\n",
    "mu, sigma = 50, 10\n",
    "s = np.random.normal(mu, sigma, 100)"
   ]
  },
  {
   "cell_type": "code",
   "execution_count": 3,
   "id": "south-riding",
   "metadata": {},
   "outputs": [
    {
     "name": "stdout",
     "output_type": "stream",
     "text": [
      "[46.72538675 60.98291083 52.59324274 46.22685401 52.14756709 54.10874162\n",
      " 55.40001536 51.53892499 55.28490871 48.50654222 40.23554537 42.0380379\n",
      " 48.01416771 68.42147021 33.66327761 52.00458786 37.88895112 62.31624722\n",
      " 60.47580076 43.2388615  51.96165768 51.2233302  46.18899487 40.72573383\n",
      " 70.5311061  47.96863369 64.4871841  56.50606677 62.45384713 58.48841954\n",
      " 44.34379645 47.02713031 38.98262612 26.65335093 43.3111214  47.02881558\n",
      " 41.39048797 66.54068632 43.24840763 43.83974877 52.1478799  57.655086\n",
      " 47.22954307 29.31089604 23.37764275 40.19076606 69.26679559 43.34892911\n",
      " 34.78871052 66.62776932 56.26971531 42.71456541 47.02693793 39.35546065\n",
      " 54.71986763 34.92904394 38.88826739 50.03726238 48.14777055 46.76230462\n",
      " 41.52142227 54.02621557 50.62493142 55.38818747 50.86458608 59.10089018\n",
      " 49.89410406 37.25263584 63.67047071 48.53167972 54.28324637 52.68576642\n",
      " 48.9010437  45.21061127 57.39560499 45.60802385 51.83393897 67.93600483\n",
      " 72.1434183  47.16911148 44.81459202 46.30315663 48.04469153 48.26609428\n",
      " 45.18615152 77.08350229 54.46589156 57.0046427  55.21595297 62.76289765\n",
      " 49.51162665 55.46348225 66.39104397 44.03467257 54.95913434 60.66257799\n",
      " 40.80343526 52.37941872 51.80211275 40.77125336]\n"
     ]
    }
   ],
   "source": [
    "print(s)"
   ]
  },
  {
   "cell_type": "code",
   "execution_count": 4,
   "id": "revised-still",
   "metadata": {},
   "outputs": [
    {
     "data": {
      "text/plain": [
       "(array([ 2.,  2.,  7., 17., 24., 24.,  9.,  6.,  7.,  2.]),\n",
       " array([23.37764275, 28.7482287 , 34.11881466, 39.48940061, 44.85998657,\n",
       "        50.23057252, 55.60115847, 60.97174443, 66.34233038, 71.71291634,\n",
       "        77.08350229]),\n",
       " <BarContainer object of 10 artists>)"
      ]
     },
     "execution_count": 4,
     "metadata": {},
     "output_type": "execute_result"
    },
    {
     "data": {
      "image/png": "[encoded data removed]",
      "text/plain": [
       "<Figure size 432x288 with 1 Axes>"
      ]
     },
     "metadata": {
      "needs_background": "light"
     },
     "output_type": "display_data"
    }
   ],
   "source": [
    "plt.hist(s)"
   ]
  },
  {
   "cell_type": "code",
   "execution_count": 5,
   "id": "animal-austin",
   "metadata": {},
   "outputs": [],
   "source": [
    "\n",
    "s[85] = 120\n",
    "s[15] = -120"
   ]
  },
  {
   "cell_type": "code",
   "execution_count": 6,
   "id": "neutral-cleveland",
   "metadata": {},
   "outputs": [
    {
     "data": {
      "text/html": [
       "<div>\n",
       "<style scoped>\n",
       "    .dataframe tbody tr th:only-of-type {\n",
       "        vertical-align: middle;\n",
       "    }\n",
       "\n",
       "    .dataframe tbody tr th {\n",
       "        vertical-align: top;\n",
       "    }\n",
       "\n",
       "    .dataframe thead th {\n",
       "        text-align: right;\n",
       "    }\n",
       "</style>\n",
       "<table border=\"1\" class=\"dataframe\">\n",
       "  <thead>\n",
       "    <tr style=\"text-align: right;\">\n",
       "      <th></th>\n",
       "      <th>Data</th>\n",
       "    </tr>\n",
       "  </thead>\n",
       "  <tbody>\n",
       "    <tr>\n",
       "      <th>0</th>\n",
       "      <td>46.725387</td>\n",
       "    </tr>\n",
       "    <tr>\n",
       "      <th>1</th>\n",
       "      <td>60.982911</td>\n",
       "    </tr>\n",
       "    <tr>\n",
       "      <th>2</th>\n",
       "      <td>52.593243</td>\n",
       "    </tr>\n",
       "    <tr>\n",
       "      <th>3</th>\n",
       "      <td>46.226854</td>\n",
       "    </tr>\n",
       "    <tr>\n",
       "      <th>4</th>\n",
       "      <td>52.147567</td>\n",
       "    </tr>\n",
       "    <tr>\n",
       "      <th>...</th>\n",
       "      <td>...</td>\n",
       "    </tr>\n",
       "    <tr>\n",
       "      <th>95</th>\n",
       "      <td>60.662578</td>\n",
       "    </tr>\n",
       "    <tr>\n",
       "      <th>96</th>\n",
       "      <td>40.803435</td>\n",
       "    </tr>\n",
       "    <tr>\n",
       "      <th>97</th>\n",
       "      <td>52.379419</td>\n",
       "    </tr>\n",
       "    <tr>\n",
       "      <th>98</th>\n",
       "      <td>51.802113</td>\n",
       "    </tr>\n",
       "    <tr>\n",
       "      <th>99</th>\n",
       "      <td>40.771253</td>\n",
       "    </tr>\n",
       "  </tbody>\n",
       "</table>\n",
       "<p>100 rows × 1 columns</p>\n",
       "</div>"
      ],
      "text/plain": [
       "         Data\n",
       "0   46.725387\n",
       "1   60.982911\n",
       "2   52.593243\n",
       "3   46.226854\n",
       "4   52.147567\n",
       "..        ...\n",
       "95  60.662578\n",
       "96  40.803435\n",
       "97  52.379419\n",
       "98  51.802113\n",
       "99  40.771253\n",
       "\n",
       "[100 rows x 1 columns]"
      ]
     },
     "execution_count": 6,
     "metadata": {},
     "output_type": "execute_result"
    }
   ],
   "source": [
    "\n",
    "df = pd.DataFrame(s,columns=['Data'])\n",
    "df"
   ]
  },
  {
   "cell_type": "code",
   "execution_count": 7,
   "id": "exempt-colombia",
   "metadata": {},
   "outputs": [],
   "source": [
    "\n",
    "for col in df.columns:\n",
    "    col_zscore = col + '_zscore'"
   ]
  },
  {
   "cell_type": "code",
   "execution_count": 9,
   "id": "limited-carol",
   "metadata": {},
   "outputs": [
    {
     "name": "stdout",
     "output_type": "stream",
     "text": [
      "Index(['Data'], dtype='object')\n"
     ]
    }
   ],
   "source": [
    "print(df.columns)"
   ]
  },
  {
   "cell_type": "code",
   "execution_count": 8,
   "id": "suspected-richardson",
   "metadata": {},
   "outputs": [
    {
     "name": "stdout",
     "output_type": "stream",
     "text": [
      "Data_zscore\n"
     ]
    }
   ],
   "source": [
    "print(col_zscore)"
   ]
  },
  {
   "cell_type": "code",
   "execution_count": 16,
   "id": "virgin-container",
   "metadata": {},
   "outputs": [],
   "source": [
    "for col in df.columns:\n",
    "    col_zscore = col + '_zscore'\n",
    "    df[col_zscore] = (df[col] - df[col].mean())/df[col].std() # calculation of z-score ==> (value-mean)/sd"
   ]
  },
  {
   "cell_type": "code",
   "execution_count": 12,
   "id": "metric-assets",
   "metadata": {},
   "outputs": [
    {
     "data": {
      "text/plain": [
       "0    -0.113582\n",
       "1     0.573038\n",
       "2     0.169005\n",
       "3    -0.137590\n",
       "4     0.147542\n",
       "        ...   \n",
       "95    0.557612\n",
       "96   -0.398773\n",
       "97    0.158708\n",
       "98    0.130906\n",
       "99   -0.400323\n",
       "Name: Data_zscore_zscore, Length: 100, dtype: float64"
      ]
     },
     "execution_count": 12,
     "metadata": {},
     "output_type": "execute_result"
    }
   ],
   "source": [
    "df[col_zscore]"
   ]
  },
  {
   "cell_type": "code",
   "execution_count": 17,
   "id": "cubic-carroll",
   "metadata": {},
   "outputs": [
    {
     "data": {
      "text/html": [
       "<div>\n",
       "<style scoped>\n",
       "    .dataframe tbody tr th:only-of-type {\n",
       "        vertical-align: middle;\n",
       "    }\n",
       "\n",
       "    .dataframe tbody tr th {\n",
       "        vertical-align: top;\n",
       "    }\n",
       "\n",
       "    .dataframe thead th {\n",
       "        text-align: right;\n",
       "    }\n",
       "</style>\n",
       "<table border=\"1\" class=\"dataframe\">\n",
       "  <thead>\n",
       "    <tr style=\"text-align: right;\">\n",
       "      <th></th>\n",
       "      <th>Data</th>\n",
       "      <th>Data_zscore</th>\n",
       "      <th>Data_zscore_zscore</th>\n",
       "      <th>Data_zscore_zscore_zscore</th>\n",
       "    </tr>\n",
       "  </thead>\n",
       "  <tbody>\n",
       "    <tr>\n",
       "      <th>0</th>\n",
       "      <td>46.725387</td>\n",
       "      <td>-0.113582</td>\n",
       "      <td>-0.113582</td>\n",
       "      <td>-0.113582</td>\n",
       "    </tr>\n",
       "    <tr>\n",
       "      <th>1</th>\n",
       "      <td>60.982911</td>\n",
       "      <td>0.573038</td>\n",
       "      <td>0.573038</td>\n",
       "      <td>0.573038</td>\n",
       "    </tr>\n",
       "    <tr>\n",
       "      <th>2</th>\n",
       "      <td>52.593243</td>\n",
       "      <td>0.169005</td>\n",
       "      <td>0.169005</td>\n",
       "      <td>0.169005</td>\n",
       "    </tr>\n",
       "    <tr>\n",
       "      <th>3</th>\n",
       "      <td>46.226854</td>\n",
       "      <td>-0.137590</td>\n",
       "      <td>-0.137590</td>\n",
       "      <td>-0.137590</td>\n",
       "    </tr>\n",
       "    <tr>\n",
       "      <th>4</th>\n",
       "      <td>52.147567</td>\n",
       "      <td>0.147542</td>\n",
       "      <td>0.147542</td>\n",
       "      <td>0.147542</td>\n",
       "    </tr>\n",
       "    <tr>\n",
       "      <th>...</th>\n",
       "      <td>...</td>\n",
       "      <td>...</td>\n",
       "      <td>...</td>\n",
       "      <td>...</td>\n",
       "    </tr>\n",
       "    <tr>\n",
       "      <th>95</th>\n",
       "      <td>60.662578</td>\n",
       "      <td>0.557612</td>\n",
       "      <td>0.557612</td>\n",
       "      <td>0.557612</td>\n",
       "    </tr>\n",
       "    <tr>\n",
       "      <th>96</th>\n",
       "      <td>40.803435</td>\n",
       "      <td>-0.398773</td>\n",
       "      <td>-0.398773</td>\n",
       "      <td>-0.398773</td>\n",
       "    </tr>\n",
       "    <tr>\n",
       "      <th>97</th>\n",
       "      <td>52.379419</td>\n",
       "      <td>0.158708</td>\n",
       "      <td>0.158708</td>\n",
       "      <td>0.158708</td>\n",
       "    </tr>\n",
       "    <tr>\n",
       "      <th>98</th>\n",
       "      <td>51.802113</td>\n",
       "      <td>0.130906</td>\n",
       "      <td>0.130906</td>\n",
       "      <td>0.130906</td>\n",
       "    </tr>\n",
       "    <tr>\n",
       "      <th>99</th>\n",
       "      <td>40.771253</td>\n",
       "      <td>-0.400323</td>\n",
       "      <td>-0.400323</td>\n",
       "      <td>-0.400323</td>\n",
       "    </tr>\n",
       "  </tbody>\n",
       "</table>\n",
       "<p>100 rows × 4 columns</p>\n",
       "</div>"
      ],
      "text/plain": [
       "         Data  Data_zscore  Data_zscore_zscore  Data_zscore_zscore_zscore\n",
       "0   46.725387    -0.113582           -0.113582                  -0.113582\n",
       "1   60.982911     0.573038            0.573038                   0.573038\n",
       "2   52.593243     0.169005            0.169005                   0.169005\n",
       "3   46.226854    -0.137590           -0.137590                  -0.137590\n",
       "4   52.147567     0.147542            0.147542                   0.147542\n",
       "..        ...          ...                 ...                        ...\n",
       "95  60.662578     0.557612            0.557612                   0.557612\n",
       "96  40.803435    -0.398773           -0.398773                  -0.398773\n",
       "97  52.379419     0.158708            0.158708                   0.158708\n",
       "98  51.802113     0.130906            0.130906                   0.130906\n",
       "99  40.771253    -0.400323           -0.400323                  -0.400323\n",
       "\n",
       "[100 rows x 4 columns]"
      ]
     },
     "execution_count": 17,
     "metadata": {},
     "output_type": "execute_result"
    }
   ],
   "source": [
    "df"
   ]
  },
  {
   "cell_type": "code",
   "execution_count": 19,
   "id": "heated-advocate",
   "metadata": {},
   "outputs": [
    {
     "data": {
      "text/html": [
       "<div>\n",
       "<style scoped>\n",
       "    .dataframe tbody tr th:only-of-type {\n",
       "        vertical-align: middle;\n",
       "    }\n",
       "\n",
       "    .dataframe tbody tr th {\n",
       "        vertical-align: top;\n",
       "    }\n",
       "\n",
       "    .dataframe thead th {\n",
       "        text-align: right;\n",
       "    }\n",
       "</style>\n",
       "<table border=\"1\" class=\"dataframe\">\n",
       "  <thead>\n",
       "    <tr style=\"text-align: right;\">\n",
       "      <th></th>\n",
       "      <th>Data</th>\n",
       "      <th>Data_zscore</th>\n",
       "    </tr>\n",
       "  </thead>\n",
       "  <tbody>\n",
       "    <tr>\n",
       "      <th>0</th>\n",
       "      <td>46.725387</td>\n",
       "      <td>-0.113582</td>\n",
       "    </tr>\n",
       "    <tr>\n",
       "      <th>1</th>\n",
       "      <td>60.982911</td>\n",
       "      <td>0.573038</td>\n",
       "    </tr>\n",
       "    <tr>\n",
       "      <th>2</th>\n",
       "      <td>52.593243</td>\n",
       "      <td>0.169005</td>\n",
       "    </tr>\n",
       "    <tr>\n",
       "      <th>3</th>\n",
       "      <td>46.226854</td>\n",
       "      <td>-0.137590</td>\n",
       "    </tr>\n",
       "    <tr>\n",
       "      <th>4</th>\n",
       "      <td>52.147567</td>\n",
       "      <td>0.147542</td>\n",
       "    </tr>\n",
       "    <tr>\n",
       "      <th>...</th>\n",
       "      <td>...</td>\n",
       "      <td>...</td>\n",
       "    </tr>\n",
       "    <tr>\n",
       "      <th>95</th>\n",
       "      <td>60.662578</td>\n",
       "      <td>0.557612</td>\n",
       "    </tr>\n",
       "    <tr>\n",
       "      <th>96</th>\n",
       "      <td>40.803435</td>\n",
       "      <td>-0.398773</td>\n",
       "    </tr>\n",
       "    <tr>\n",
       "      <th>97</th>\n",
       "      <td>52.379419</td>\n",
       "      <td>0.158708</td>\n",
       "    </tr>\n",
       "    <tr>\n",
       "      <th>98</th>\n",
       "      <td>51.802113</td>\n",
       "      <td>0.130906</td>\n",
       "    </tr>\n",
       "    <tr>\n",
       "      <th>99</th>\n",
       "      <td>40.771253</td>\n",
       "      <td>-0.400323</td>\n",
       "    </tr>\n",
       "  </tbody>\n",
       "</table>\n",
       "<p>100 rows × 2 columns</p>\n",
       "</div>"
      ],
      "text/plain": [
       "         Data  Data_zscore\n",
       "0   46.725387    -0.113582\n",
       "1   60.982911     0.573038\n",
       "2   52.593243     0.169005\n",
       "3   46.226854    -0.137590\n",
       "4   52.147567     0.147542\n",
       "..        ...          ...\n",
       "95  60.662578     0.557612\n",
       "96  40.803435    -0.398773\n",
       "97  52.379419     0.158708\n",
       "98  51.802113     0.130906\n",
       "99  40.771253    -0.400323\n",
       "\n",
       "[100 rows x 2 columns]"
      ]
     },
     "execution_count": 19,
     "metadata": {},
     "output_type": "execute_result"
    }
   ],
   "source": [
    "df.drop(['Data_zscore_zscore','Data_zscore_zscore_zscore'],axis=1)"
   ]
  },
  {
   "cell_type": "code",
   "execution_count": 20,
   "id": "chronic-russian",
   "metadata": {},
   "outputs": [
    {
     "data": {
      "text/plain": [
       "0     46.725387\n",
       "1     60.982911\n",
       "2     52.593243\n",
       "3     46.226854\n",
       "4     52.147567\n",
       "        ...    \n",
       "95    60.662578\n",
       "96    40.803435\n",
       "97    52.379419\n",
       "98    51.802113\n",
       "99    40.771253\n",
       "Name: Data, Length: 100, dtype: float64"
      ]
     },
     "execution_count": 20,
     "metadata": {},
     "output_type": "execute_result"
    }
   ],
   "source": [
    "df['Data']"
   ]
  },
  {
   "cell_type": "code",
   "execution_count": 24,
   "id": "hungarian-syntax",
   "metadata": {},
   "outputs": [
    {
     "data": {
      "text/plain": [
       "0     False\n",
       "1     False\n",
       "2     False\n",
       "3     False\n",
       "4     False\n",
       "      ...  \n",
       "95    False\n",
       "96    False\n",
       "97    False\n",
       "98    False\n",
       "99    False\n",
       "Name: Data_zscore, Length: 100, dtype: bool"
      ]
     },
     "execution_count": 24,
     "metadata": {},
     "output_type": "execute_result"
    }
   ],
   "source": [
    "df['Data_zscore']> 3"
   ]
  },
  {
   "cell_type": "code",
   "execution_count": 26,
   "id": "similar-sound",
   "metadata": {},
   "outputs": [],
   "source": [
    "df['outlier'] = (abs(df['Data_zscore'])> 3) # any row value have value greater than 3 is classifed as outlier"
   ]
  },
  {
   "cell_type": "code",
   "execution_count": 27,
   "id": "controversial-vintage",
   "metadata": {},
   "outputs": [
    {
     "data": {
      "text/plain": [
       "0     False\n",
       "1     False\n",
       "2     False\n",
       "3     False\n",
       "4     False\n",
       "      ...  \n",
       "95    False\n",
       "96    False\n",
       "97    False\n",
       "98    False\n",
       "99    False\n",
       "Name: outlier, Length: 100, dtype: bool"
      ]
     },
     "execution_count": 27,
     "metadata": {},
     "output_type": "execute_result"
    }
   ],
   "source": [
    "df['outlier']"
   ]
  },
  {
   "cell_type": "code",
   "execution_count": 28,
   "id": "tough-wilson",
   "metadata": {},
   "outputs": [],
   "source": [
    "df['outlier'] = (abs(df['Data_zscore'])> 3).astype(int)"
   ]
  },
  {
   "cell_type": "code",
   "execution_count": 31,
   "id": "turned-profit",
   "metadata": {},
   "outputs": [
    {
     "data": {
      "text/plain": [
       "0     0\n",
       "1     0\n",
       "2     0\n",
       "3     0\n",
       "4     0\n",
       "     ..\n",
       "95    0\n",
       "96    0\n",
       "97    0\n",
       "98    0\n",
       "99    0\n",
       "Name: outlier, Length: 100, dtype: int32"
      ]
     },
     "execution_count": 31,
     "metadata": {},
     "output_type": "execute_result"
    }
   ],
   "source": [
    "df['outlier']"
   ]
  },
  {
   "cell_type": "code",
   "execution_count": 32,
   "id": "stunning-antenna",
   "metadata": {},
   "outputs": [
    {
     "data": {
      "text/html": [
       "<div>\n",
       "<style scoped>\n",
       "    .dataframe tbody tr th:only-of-type {\n",
       "        vertical-align: middle;\n",
       "    }\n",
       "\n",
       "    .dataframe tbody tr th {\n",
       "        vertical-align: top;\n",
       "    }\n",
       "\n",
       "    .dataframe thead th {\n",
       "        text-align: right;\n",
       "    }\n",
       "</style>\n",
       "<table border=\"1\" class=\"dataframe\">\n",
       "  <thead>\n",
       "    <tr style=\"text-align: right;\">\n",
       "      <th></th>\n",
       "      <th>Data</th>\n",
       "      <th>Data_zscore</th>\n",
       "      <th>Data_zscore_zscore</th>\n",
       "      <th>Data_zscore_zscore_zscore</th>\n",
       "      <th>outlier</th>\n",
       "    </tr>\n",
       "  </thead>\n",
       "  <tbody>\n",
       "    <tr>\n",
       "      <th>0</th>\n",
       "      <td>46.725387</td>\n",
       "      <td>-0.113582</td>\n",
       "      <td>-0.113582</td>\n",
       "      <td>-0.113582</td>\n",
       "      <td>0</td>\n",
       "    </tr>\n",
       "    <tr>\n",
       "      <th>1</th>\n",
       "      <td>60.982911</td>\n",
       "      <td>0.573038</td>\n",
       "      <td>0.573038</td>\n",
       "      <td>0.573038</td>\n",
       "      <td>0</td>\n",
       "    </tr>\n",
       "    <tr>\n",
       "      <th>2</th>\n",
       "      <td>52.593243</td>\n",
       "      <td>0.169005</td>\n",
       "      <td>0.169005</td>\n",
       "      <td>0.169005</td>\n",
       "      <td>0</td>\n",
       "    </tr>\n",
       "    <tr>\n",
       "      <th>3</th>\n",
       "      <td>46.226854</td>\n",
       "      <td>-0.137590</td>\n",
       "      <td>-0.137590</td>\n",
       "      <td>-0.137590</td>\n",
       "      <td>0</td>\n",
       "    </tr>\n",
       "    <tr>\n",
       "      <th>4</th>\n",
       "      <td>52.147567</td>\n",
       "      <td>0.147542</td>\n",
       "      <td>0.147542</td>\n",
       "      <td>0.147542</td>\n",
       "      <td>0</td>\n",
       "    </tr>\n",
       "    <tr>\n",
       "      <th>...</th>\n",
       "      <td>...</td>\n",
       "      <td>...</td>\n",
       "      <td>...</td>\n",
       "      <td>...</td>\n",
       "      <td>...</td>\n",
       "    </tr>\n",
       "    <tr>\n",
       "      <th>95</th>\n",
       "      <td>60.662578</td>\n",
       "      <td>0.557612</td>\n",
       "      <td>0.557612</td>\n",
       "      <td>0.557612</td>\n",
       "      <td>0</td>\n",
       "    </tr>\n",
       "    <tr>\n",
       "      <th>96</th>\n",
       "      <td>40.803435</td>\n",
       "      <td>-0.398773</td>\n",
       "      <td>-0.398773</td>\n",
       "      <td>-0.398773</td>\n",
       "      <td>0</td>\n",
       "    </tr>\n",
       "    <tr>\n",
       "      <th>97</th>\n",
       "      <td>52.379419</td>\n",
       "      <td>0.158708</td>\n",
       "      <td>0.158708</td>\n",
       "      <td>0.158708</td>\n",
       "      <td>0</td>\n",
       "    </tr>\n",
       "    <tr>\n",
       "      <th>98</th>\n",
       "      <td>51.802113</td>\n",
       "      <td>0.130906</td>\n",
       "      <td>0.130906</td>\n",
       "      <td>0.130906</td>\n",
       "      <td>0</td>\n",
       "    </tr>\n",
       "    <tr>\n",
       "      <th>99</th>\n",
       "      <td>40.771253</td>\n",
       "      <td>-0.400323</td>\n",
       "      <td>-0.400323</td>\n",
       "      <td>-0.400323</td>\n",
       "      <td>0</td>\n",
       "    </tr>\n",
       "  </tbody>\n",
       "</table>\n",
       "<p>100 rows × 5 columns</p>\n",
       "</div>"
      ],
      "text/plain": [
       "         Data  Data_zscore  Data_zscore_zscore  Data_zscore_zscore_zscore  \\\n",
       "0   46.725387    -0.113582           -0.113582                  -0.113582   \n",
       "1   60.982911     0.573038            0.573038                   0.573038   \n",
       "2   52.593243     0.169005            0.169005                   0.169005   \n",
       "3   46.226854    -0.137590           -0.137590                  -0.137590   \n",
       "4   52.147567     0.147542            0.147542                   0.147542   \n",
       "..        ...          ...                 ...                        ...   \n",
       "95  60.662578     0.557612            0.557612                   0.557612   \n",
       "96  40.803435    -0.398773           -0.398773                  -0.398773   \n",
       "97  52.379419     0.158708            0.158708                   0.158708   \n",
       "98  51.802113     0.130906            0.130906                   0.130906   \n",
       "99  40.771253    -0.400323           -0.400323                  -0.400323   \n",
       "\n",
       "    outlier  \n",
       "0         0  \n",
       "1         0  \n",
       "2         0  \n",
       "3         0  \n",
       "4         0  \n",
       "..      ...  \n",
       "95        0  \n",
       "96        0  \n",
       "97        0  \n",
       "98        0  \n",
       "99        0  \n",
       "\n",
       "[100 rows x 5 columns]"
      ]
     },
     "execution_count": 32,
     "metadata": {},
     "output_type": "execute_result"
    }
   ],
   "source": [
    "df"
   ]
  },
  {
   "cell_type": "code",
   "execution_count": 35,
   "id": "charming-worst",
   "metadata": {},
   "outputs": [],
   "source": [
    "df.drop(['Data_zscore_zscore','Data_zscore_zscore_zscore'],axis=1,inplace=True)"
   ]
  },
  {
   "cell_type": "code",
   "execution_count": 36,
   "id": "standing-source",
   "metadata": {},
   "outputs": [
    {
     "data": {
      "text/html": [
       "<div>\n",
       "<style scoped>\n",
       "    .dataframe tbody tr th:only-of-type {\n",
       "        vertical-align: middle;\n",
       "    }\n",
       "\n",
       "    .dataframe tbody tr th {\n",
       "        vertical-align: top;\n",
       "    }\n",
       "\n",
       "    .dataframe thead th {\n",
       "        text-align: right;\n",
       "    }\n",
       "</style>\n",
       "<table border=\"1\" class=\"dataframe\">\n",
       "  <thead>\n",
       "    <tr style=\"text-align: right;\">\n",
       "      <th></th>\n",
       "      <th>Data</th>\n",
       "      <th>Data_zscore</th>\n",
       "      <th>outlier</th>\n",
       "    </tr>\n",
       "  </thead>\n",
       "  <tbody>\n",
       "    <tr>\n",
       "      <th>0</th>\n",
       "      <td>46.725387</td>\n",
       "      <td>-0.113582</td>\n",
       "      <td>0</td>\n",
       "    </tr>\n",
       "    <tr>\n",
       "      <th>1</th>\n",
       "      <td>60.982911</td>\n",
       "      <td>0.573038</td>\n",
       "      <td>0</td>\n",
       "    </tr>\n",
       "    <tr>\n",
       "      <th>2</th>\n",
       "      <td>52.593243</td>\n",
       "      <td>0.169005</td>\n",
       "      <td>0</td>\n",
       "    </tr>\n",
       "    <tr>\n",
       "      <th>3</th>\n",
       "      <td>46.226854</td>\n",
       "      <td>-0.137590</td>\n",
       "      <td>0</td>\n",
       "    </tr>\n",
       "    <tr>\n",
       "      <th>4</th>\n",
       "      <td>52.147567</td>\n",
       "      <td>0.147542</td>\n",
       "      <td>0</td>\n",
       "    </tr>\n",
       "    <tr>\n",
       "      <th>...</th>\n",
       "      <td>...</td>\n",
       "      <td>...</td>\n",
       "      <td>...</td>\n",
       "    </tr>\n",
       "    <tr>\n",
       "      <th>95</th>\n",
       "      <td>60.662578</td>\n",
       "      <td>0.557612</td>\n",
       "      <td>0</td>\n",
       "    </tr>\n",
       "    <tr>\n",
       "      <th>96</th>\n",
       "      <td>40.803435</td>\n",
       "      <td>-0.398773</td>\n",
       "      <td>0</td>\n",
       "    </tr>\n",
       "    <tr>\n",
       "      <th>97</th>\n",
       "      <td>52.379419</td>\n",
       "      <td>0.158708</td>\n",
       "      <td>0</td>\n",
       "    </tr>\n",
       "    <tr>\n",
       "      <th>98</th>\n",
       "      <td>51.802113</td>\n",
       "      <td>0.130906</td>\n",
       "      <td>0</td>\n",
       "    </tr>\n",
       "    <tr>\n",
       "      <th>99</th>\n",
       "      <td>40.771253</td>\n",
       "      <td>-0.400323</td>\n",
       "      <td>0</td>\n",
       "    </tr>\n",
       "  </tbody>\n",
       "</table>\n",
       "<p>100 rows × 3 columns</p>\n",
       "</div>"
      ],
      "text/plain": [
       "         Data  Data_zscore  outlier\n",
       "0   46.725387    -0.113582        0\n",
       "1   60.982911     0.573038        0\n",
       "2   52.593243     0.169005        0\n",
       "3   46.226854    -0.137590        0\n",
       "4   52.147567     0.147542        0\n",
       "..        ...          ...      ...\n",
       "95  60.662578     0.557612        0\n",
       "96  40.803435    -0.398773        0\n",
       "97  52.379419     0.158708        0\n",
       "98  51.802113     0.130906        0\n",
       "99  40.771253    -0.400323        0\n",
       "\n",
       "[100 rows x 3 columns]"
      ]
     },
     "execution_count": 36,
     "metadata": {},
     "output_type": "execute_result"
    }
   ],
   "source": [
    "df"
   ]
  },
  {
   "cell_type": "code",
   "execution_count": 39,
   "id": "determined-contractor",
   "metadata": {},
   "outputs": [
    {
     "data": {
      "text/html": [
       "<div>\n",
       "<style scoped>\n",
       "    .dataframe tbody tr th:only-of-type {\n",
       "        vertical-align: middle;\n",
       "    }\n",
       "\n",
       "    .dataframe tbody tr th {\n",
       "        vertical-align: top;\n",
       "    }\n",
       "\n",
       "    .dataframe thead th {\n",
       "        text-align: right;\n",
       "    }\n",
       "</style>\n",
       "<table border=\"1\" class=\"dataframe\">\n",
       "  <thead>\n",
       "    <tr style=\"text-align: right;\">\n",
       "      <th></th>\n",
       "      <th>Data</th>\n",
       "      <th>Data_zscore</th>\n",
       "      <th>outlier</th>\n",
       "    </tr>\n",
       "  </thead>\n",
       "  <tbody>\n",
       "    <tr>\n",
       "      <th>15</th>\n",
       "      <td>-120.0</td>\n",
       "      <td>-8.142813</td>\n",
       "      <td>1</td>\n",
       "    </tr>\n",
       "    <tr>\n",
       "      <th>85</th>\n",
       "      <td>120.0</td>\n",
       "      <td>3.415208</td>\n",
       "      <td>1</td>\n",
       "    </tr>\n",
       "  </tbody>\n",
       "</table>\n",
       "</div>"
      ],
      "text/plain": [
       "     Data  Data_zscore  outlier\n",
       "15 -120.0    -8.142813        1\n",
       "85  120.0     3.415208        1"
      ]
     },
     "execution_count": 39,
     "metadata": {},
     "output_type": "execute_result"
    }
   ],
   "source": [
    "df.loc[df.outlier==1]"
   ]
  },
  {
   "cell_type": "code",
   "execution_count": 40,
   "id": "norwegian-removal",
   "metadata": {},
   "outputs": [
    {
     "data": {
      "text/html": [
       "<div>\n",
       "<style scoped>\n",
       "    .dataframe tbody tr th:only-of-type {\n",
       "        vertical-align: middle;\n",
       "    }\n",
       "\n",
       "    .dataframe tbody tr th {\n",
       "        vertical-align: top;\n",
       "    }\n",
       "\n",
       "    .dataframe thead th {\n",
       "        text-align: right;\n",
       "    }\n",
       "</style>\n",
       "<table border=\"1\" class=\"dataframe\">\n",
       "  <thead>\n",
       "    <tr style=\"text-align: right;\">\n",
       "      <th></th>\n",
       "      <th>Data</th>\n",
       "      <th>Data_zscore</th>\n",
       "      <th>outlier</th>\n",
       "    </tr>\n",
       "  </thead>\n",
       "  <tbody>\n",
       "    <tr>\n",
       "      <th>95</th>\n",
       "      <td>60.662578</td>\n",
       "      <td>0.557612</td>\n",
       "      <td>0</td>\n",
       "    </tr>\n",
       "    <tr>\n",
       "      <th>96</th>\n",
       "      <td>40.803435</td>\n",
       "      <td>-0.398773</td>\n",
       "      <td>0</td>\n",
       "    </tr>\n",
       "    <tr>\n",
       "      <th>97</th>\n",
       "      <td>52.379419</td>\n",
       "      <td>0.158708</td>\n",
       "      <td>0</td>\n",
       "    </tr>\n",
       "    <tr>\n",
       "      <th>98</th>\n",
       "      <td>51.802113</td>\n",
       "      <td>0.130906</td>\n",
       "      <td>0</td>\n",
       "    </tr>\n",
       "    <tr>\n",
       "      <th>99</th>\n",
       "      <td>40.771253</td>\n",
       "      <td>-0.400323</td>\n",
       "      <td>0</td>\n",
       "    </tr>\n",
       "  </tbody>\n",
       "</table>\n",
       "</div>"
      ],
      "text/plain": [
       "         Data  Data_zscore  outlier\n",
       "95  60.662578     0.557612        0\n",
       "96  40.803435    -0.398773        0\n",
       "97  52.379419     0.158708        0\n",
       "98  51.802113     0.130906        0\n",
       "99  40.771253    -0.400323        0"
      ]
     },
     "execution_count": 40,
     "metadata": {},
     "output_type": "execute_result"
    }
   ],
   "source": [
    "df.tail()"
   ]
  },
  {
   "cell_type": "code",
   "execution_count": 41,
   "id": "scenic-practice",
   "metadata": {},
   "outputs": [
    {
     "name": "stdout",
     "output_type": "stream",
     "text": [
      "Print number of outliers = 2\n"
     ]
    }
   ],
   "source": [
    "print (\"Print number of outliers = \" +str(df.outlier.value_counts()[1]))"
   ]
  }
 ],
 "metadata": {
  "kernelspec": {
   "display_name": "Python 3",
   "language": "python",
   "name": "python3"
  },
  "language_info": {
   "codemirror_mode": {
    "name": "ipython",
    "version": 3
   },
   "file_extension": ".py",
   "mimetype": "text/x-python",
   "name": "python",
   "nbconvert_exporter": "python",
   "pygments_lexer": "ipython3",
   "version": "3.8.5"
  }
 },
 "nbformat": 4,
 "nbformat_minor": 5
}
